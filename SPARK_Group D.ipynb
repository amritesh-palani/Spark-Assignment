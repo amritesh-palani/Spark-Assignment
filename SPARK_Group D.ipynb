{
 "cells": [
  {
   "cell_type": "markdown",
   "metadata": {},
   "source": [
    "# Spark Group D Assigment\n",
    "### An analysis on arrival delay with relations to the time of departure and arrival (given the 'Flights Dataset', discussed in class)"
   ]
  },
  {
   "cell_type": "markdown",
   "metadata": {},
   "source": [
    "### @Authors\n",
    " - Sandra Alemayehu\n",
    " - Frederico Andrade\n",
    " - Fernando Llopis\n",
    " - Amritesh Palani\n",
    " - Carmen Roldan\n",
    " - Bibake Uppal"
   ]
  },
  {
   "cell_type": "markdown",
   "metadata": {},
   "source": [
    "## \"INDEX\""
   ]
  },
  {
   "cell_type": "markdown",
   "metadata": {},
   "source": [
    "## 1. Introduction to the our Dataset (\"flights_jan08.csv\")"
   ]
  },
  {
   "cell_type": "markdown",
   "metadata": {},
   "source": [
    "According to a 2010 report made by the US Federal Aviation Administration, the economic price of domestic flight delays entails a yearly cost of 32.9 billion dollars to passengers, airlines and other parts of the economy. More than half of that amount comes from passengers' pockets, as they do not only waste time waiting for their planes to leave, but also miss connecting flights, spend money on food and have to sleep on hotel rooms while they're stranded.\n",
    "\n",
    "The report, focusing on data from year 2007, estimated that air transportation delays put a 4 billion dollar dent in the country's gross domestic product that year. Full report can be found \n",
    "<a href=\"http://www.isr.umd.edu/NEXTOR/pubs/TDI_Report_Final_10_18_10_V3.pdf\">here</a>.\n",
    "\n",
    "But which are the causes for these delays?\n",
    "\n",
    "In order to answer this question, we are going to analyze the provided dataset, containing up to 1.936.758 different internal flights in the US for 2008 and their causes for delay, diversion and cancellation; if any.\n",
    "\n",
    "The data comes from the U.S. Department of Transportation's (DOT) Bureau of Transportation Statistics (BTS)\n",
    "\n",
    "This dataset is composed by the following variables:\n",
    "1. **Year** 2008\n",
    "2. **Month** 1\n",
    "3. **DayofMonth** 1-31\n",
    "4. **DayOfWeek** 1 (Monday) - 7 (Sunday)\n",
    "5. **DepTime** actual departure time (local, hhmm)\n",
    "6. **CRSDepTime** scheduled departure time (local, hhmm)\n",
    "7. **ArrTime** actual arrival time (local, hhmm)\n",
    "8. **CRSArrTime** scheduled arrival time (local, hhmm)\n",
    "9. **UniqueCarrie**r unique carrier code\n",
    "10. **FlightNum** flight number\n",
    "11. **TailNum** plane tail number: aircraft registration, unique aircraft identifier\n",
    "12. **ActualElapsedTime** in minutes\n",
    "13. **CRSElapsedTime** in minutes\n",
    "14. **AirTime** in minutes\n",
    "15. **ArrDelay** arrival delay, in minutes: A flight is counted as \"on time\" if it operated less than 15 minutes later the scheduled time shown in the carriers' Computerized Reservations Systems (CRS).\n",
    "16. **DepDelay** departure delay, in minutes\n",
    "17. **Origin** origin IATA airport code\n",
    "18. **Dest** destination IATA airport code\n",
    "19. **Distance** in miles\n",
    "20. **TaxiIn** taxi in time, in minutes\n",
    "21. **TaxiOut** taxi out time in minutes\n",
    "22. **Cancelled** *was the flight cancelled\n",
    "23. **CancellationCode** reason for cancellation (A = carrier, B = weather, C = NAS, D = security)\n",
    "24. **Diverted** 1 = yes, 0 = no\n",
    "25. **CarrierDelay** in minutes: Carrier delay is within the control of the air carrier. Examples of occurrences that may determine carrier delay are: aircraft cleaning, aircraft damage, awaiting the arrival of connecting passengers or crew, baggage, bird strike, cargo loading, catering, computer, outage-carrier equipment, crew legality (pilot or attendant rest), damage by hazardous goods, engineering inspection, fueling, handling disabled passengers, late crew, lavatory servicing, maintenance, oversales, potable water servicing, removal of unruly passenger, slow boarding or seating, stowing carry-on baggage, weight and balance delays.\n",
    "26. **WeatherDelay** in minutes: Weather delay is caused by extreme or hazardous weather conditions that are forecasted or manifest themselves on point of departure, enroute, or on point of arrival.\n",
    "27. **NASDelay** in minutes: Delay that is within the control of the National Airspace System (NAS) may include: non-extreme weather conditions, airport operations, heavy traffic volume, air traffic control, etc.\n",
    "28. **SecurityDelay** in minutes: Security delay is caused by evacuation of a terminal or concourse, re-boarding of aircraft because of security breach, inoperative screening equipment and/or long lines in excess of 29 minutes at screening areas.\n",
    "29. **LateAircraftDelay** in minutes: Arrival delay at an airport due to the late arrival of the same aircraft at a previous airport. The ripple effect of an earlier delay at downstream airports is referred to as delay propagation"
   ]
  },
  {
   "cell_type": "markdown",
   "metadata": {},
   "source": [
    "## 2. Pyskark Environment Setup"
   ]
  },
  {
   "cell_type": "code",
   "execution_count": 3,
   "metadata": {},
   "outputs": [],
   "source": [
    "import findspark\n",
    "findspark.init()"
   ]
  },
  {
   "cell_type": "code",
   "execution_count": 4,
   "metadata": {},
   "outputs": [
    {
     "data": {
      "text/plain": [
       "'/opt/spark-2.4.4-bin-hadoop2.7'"
      ]
     },
     "execution_count": 4,
     "metadata": {},
     "output_type": "execute_result"
    }
   ],
   "source": [
    "findspark.find()\n",
    "import pyspark\n",
    "findspark.find()"
   ]
  },
  {
   "cell_type": "code",
   "execution_count": 5,
   "metadata": {},
   "outputs": [],
   "source": [
    "from pyspark import SparkContext, SparkConf\n",
    "from pyspark.sql import SparkSession\n",
    "\n",
    "conf = pyspark.SparkConf().setAppName('appName').setMaster('local[4]')\n",
    "sc = pyspark.SparkContext(conf=conf)\n",
    "spark = SparkSession(sc)"
   ]
  },
  {
   "cell_type": "markdown",
   "metadata": {},
   "source": [
    "## 3. DataFrame Setup & Dataset Overview"
   ]
  },
  {
   "cell_type": "code",
   "execution_count": 7,
   "metadata": {},
   "outputs": [],
   "source": [
    "flightsDF = spark.read \\\n",
    "                 .option(\"inferSchema\", \"true\") \\\n",
    "                 .option(\"header\", \"true\") \\\n",
    "                 .csv(\"flights_jan08.csv\")"
   ]
  },
  {
   "cell_type": "code",
   "execution_count": 9,
   "metadata": {},
   "outputs": [],
   "source": [
    "flightsDF = spark.read.option(\"header\", \"true\").csv(\"flights_jan08.csv\")"
   ]
  },
  {
   "cell_type": "code",
   "execution_count": 10,
   "metadata": {},
   "outputs": [
    {
     "data": {
      "text/plain": [
       "[Row(Year='2008', Month='1', DayofMonth='3', DayOfWeek='4', DepTime='1644', CRSDepTime='1510', ArrTime='1845', CRSArrTime='1725', UniqueCarrier='WN', FlightNum='1333', TailNum='N334SW', ActualElapsedTime='121', CRSElapsedTime='135', AirTime='107', ArrDelay='80', DepDelay='94', Origin='IND', Dest='MCO', Distance='828', TaxiIn='6', TaxiOut='8', Cancelled='0', CancellationCode=None, Diverted='0', CarrierDelay='8', WeatherDelay='0', NASDelay='0', SecurityDelay='0', LateAircraftDelay='72'),\n",
       " Row(Year='2008', Month='1', DayofMonth='3', DayOfWeek='4', DepTime='1426', CRSDepTime='1430', ArrTime='1426', CRSArrTime='1425', UniqueCarrier='WN', FlightNum='829', TailNum='N476WN', ActualElapsedTime='60', CRSElapsedTime='55', AirTime='39', ArrDelay='1', DepDelay='-4', Origin='IND', Dest='MDW', Distance='162', TaxiIn='9', TaxiOut='12', Cancelled='0', CancellationCode=None, Diverted='0', CarrierDelay='NA', WeatherDelay='NA', NASDelay='NA', SecurityDelay='NA', LateAircraftDelay='NA')]"
      ]
     },
     "execution_count": 10,
     "metadata": {},
     "output_type": "execute_result"
    }
   ],
   "source": [
    "flightsDF.cache() # optimization to make the processing faster\n",
    "flightsDF.sample(False, 0.1).take(2)"
   ]
  },
  {
   "cell_type": "code",
   "execution_count": 11,
   "metadata": {},
   "outputs": [
    {
     "name": "stdout",
     "output_type": "stream",
     "text": [
      "+----+-----+----------+---------+-------+----------+-------+----------+-------------+---------+-------+-----------------+--------------+-------+--------+--------+------+----+--------+------+-------+---------+----------------+--------+------------+------------+--------+-------------+-----------------+\n",
      "|Year|Month|DayofMonth|DayOfWeek|DepTime|CRSDepTime|ArrTime|CRSArrTime|UniqueCarrier|FlightNum|TailNum|ActualElapsedTime|CRSElapsedTime|AirTime|ArrDelay|DepDelay|Origin|Dest|Distance|TaxiIn|TaxiOut|Cancelled|CancellationCode|Diverted|CarrierDelay|WeatherDelay|NASDelay|SecurityDelay|LateAircraftDelay|\n",
      "+----+-----+----------+---------+-------+----------+-------+----------+-------------+---------+-------+-----------------+--------------+-------+--------+--------+------+----+--------+------+-------+---------+----------------+--------+------------+------------+--------+-------------+-----------------+\n",
      "|2008|    1|         3|        4|   2003|      1955|   2211|      2225|           WN|      335| N712SW|              128|           150|    116|     -14|       8|   IAD| TPA|     810|     4|      8|        0|            null|       0|          NA|          NA|      NA|           NA|               NA|\n",
      "|2008|    1|         3|        4|    754|       735|   1002|      1000|           WN|     3231| N772SW|              128|           145|    113|       2|      19|   IAD| TPA|     810|     5|     10|        0|            null|       0|          NA|          NA|      NA|           NA|               NA|\n",
      "|2008|    1|         3|        4|    628|       620|    804|       750|           WN|      448| N428WN|               96|            90|     76|      14|       8|   IND| BWI|     515|     3|     17|        0|            null|       0|          NA|          NA|      NA|           NA|               NA|\n",
      "|2008|    1|         3|        4|    926|       930|   1054|      1100|           WN|     1746| N612SW|               88|            90|     78|      -6|      -4|   IND| BWI|     515|     3|      7|        0|            null|       0|          NA|          NA|      NA|           NA|               NA|\n",
      "|2008|    1|         3|        4|   1829|      1755|   1959|      1925|           WN|     3920| N464WN|               90|            90|     77|      34|      34|   IND| BWI|     515|     3|     10|        0|            null|       0|           2|           0|       0|            0|               32|\n",
      "|2008|    1|         3|        4|   1940|      1915|   2121|      2110|           WN|      378| N726SW|              101|           115|     87|      11|      25|   IND| JAX|     688|     4|     10|        0|            null|       0|          NA|          NA|      NA|           NA|               NA|\n",
      "|2008|    1|         3|        4|   1937|      1830|   2037|      1940|           WN|      509| N763SW|              240|           250|    230|      57|      67|   IND| LAS|    1591|     3|      7|        0|            null|       0|          10|           0|       0|            0|               47|\n",
      "|2008|    1|         3|        4|   1039|      1040|   1132|      1150|           WN|      535| N428WN|              233|           250|    219|     -18|      -1|   IND| LAS|    1591|     7|      7|        0|            null|       0|          NA|          NA|      NA|           NA|               NA|\n",
      "|2008|    1|         3|        4|    617|       615|    652|       650|           WN|       11| N689SW|               95|            95|     70|       2|       2|   IND| MCI|     451|     6|     19|        0|            null|       0|          NA|          NA|      NA|           NA|               NA|\n",
      "|2008|    1|         3|        4|   1620|      1620|   1639|      1655|           WN|      810| N648SW|               79|            95|     70|     -16|       0|   IND| MCI|     451|     3|      6|        0|            null|       0|          NA|          NA|      NA|           NA|               NA|\n",
      "|2008|    1|         3|        4|    706|       700|    916|       915|           WN|      100| N690SW|              130|           135|    106|       1|       6|   IND| MCO|     828|     5|     19|        0|            null|       0|          NA|          NA|      NA|           NA|               NA|\n",
      "|2008|    1|         3|        4|   1644|      1510|   1845|      1725|           WN|     1333| N334SW|              121|           135|    107|      80|      94|   IND| MCO|     828|     6|      8|        0|            null|       0|           8|           0|       0|            0|               72|\n",
      "|2008|    1|         3|        4|   1426|      1430|   1426|      1425|           WN|      829| N476WN|               60|            55|     39|       1|      -4|   IND| MDW|     162|     9|     12|        0|            null|       0|          NA|          NA|      NA|           NA|               NA|\n",
      "|2008|    1|         3|        4|    715|       715|    720|       710|           WN|     1016| N765SW|               65|            55|     37|      10|       0|   IND| MDW|     162|     7|     21|        0|            null|       0|          NA|          NA|      NA|           NA|               NA|\n",
      "|2008|    1|         3|        4|   1702|      1700|   1651|      1655|           WN|     1827| N420WN|               49|            55|     35|      -4|       2|   IND| MDW|     162|     4|     10|        0|            null|       0|          NA|          NA|      NA|           NA|               NA|\n",
      "|2008|    1|         3|        4|   1029|      1020|   1021|      1010|           WN|     2272| N263WN|               52|            50|     37|      11|       9|   IND| MDW|     162|     6|      9|        0|            null|       0|          NA|          NA|      NA|           NA|               NA|\n",
      "|2008|    1|         3|        4|   1452|      1425|   1640|      1625|           WN|      675| N286WN|              228|           240|    213|      15|      27|   IND| PHX|    1489|     7|      8|        0|            null|       0|           3|           0|       0|            0|               12|\n",
      "|2008|    1|         3|        4|    754|       745|    940|       955|           WN|     1144| N778SW|              226|           250|    205|     -15|       9|   IND| PHX|    1489|     5|     16|        0|            null|       0|          NA|          NA|      NA|           NA|               NA|\n",
      "|2008|    1|         3|        4|   1323|      1255|   1526|      1510|           WN|        4| N674AA|              123|           135|    110|      16|      28|   IND| TPA|     838|     4|      9|        0|            null|       0|           0|           0|       0|            0|               16|\n",
      "|2008|    1|         3|        4|   1416|      1325|   1512|      1435|           WN|       54| N643SW|               56|            70|     49|      37|      51|   ISP| BWI|     220|     2|      5|        0|            null|       0|          12|           0|       0|            0|               25|\n",
      "+----+-----+----------+---------+-------+----------+-------+----------+-------------+---------+-------+-----------------+--------------+-------+--------+--------+------+----+--------+------+-------+---------+----------------+--------+------------+------------+--------+-------------+-----------------+\n",
      "only showing top 20 rows\n",
      "\n"
     ]
    }
   ],
   "source": [
    "flightsDF.show()"
   ]
  },
  {
   "cell_type": "markdown",
   "metadata": {},
   "source": [
    "## 4. Analysis (answering the proposed questions)"
   ]
  },
  {
   "cell_type": "markdown",
   "metadata": {},
   "source": [
    "### A. Relationship between the economic prosperity of a city and the proportion of flight arrivals during the weekdays and weekends:"
   ]
  },
  {
   "cell_type": "code",
   "execution_count": null,
   "metadata": {},
   "outputs": [],
   "source": [
    "print (\"Most and least frequent occurrences for FlightNum, TailNum, Origin and Dest columns:\")\n",
    "FlightNumDF = flightsDF.groupBy(\"FlightNum\").agg(count(lit(1)).alias(\"Total\"))\n",
    "TailNumDF   = flightsDF.groupBy(\"TailNum\").agg(count(lit(1)).alias(\"Total\"))\n",
    "OriginDF    = flightsDF.groupBy(\"Origin\").agg(count(lit(1)).alias(\"Total\"))\n",
    "DestDF      = flightsDF.groupBy(\"Dest\").agg(count(lit(1)).alias(\"Total\"))\n",
    "\n",
    "leastFreqFlightNum    = FlightNumDF.orderBy(col(\"Total\").asc()).first()\n",
    "mostFreqFlightNum     = FlightNumDF.orderBy(col(\"Total\").desc()).first()\n",
    "leastFreqTailNum      = TailNumDF.orderBy(col(\"Total\").asc()).first()\n",
    "mostFreqTailNum       = TailNumDF.orderBy(col(\"Total\").desc()).first()\n",
    "leastFreqOrigin       = OriginDF.orderBy(col(\"Total\").asc()).first()\n",
    "mostFreqOrigin        = OriginDF.orderBy(col(\"Total\").desc()).first()\n",
    "leastFreqDest         = DestDF.orderBy(col(\"Total\").asc()).first()\n",
    "mostFreqDest          = DestDF.orderBy(col(\"Total\").desc()).first()\n",
    "\n",
    "display(Markdown(\"\"\"\n",
    "| %s | %s | %s | %s |\n",
    "|----|----|----|----|\n",
    "| %s | %s | %s | %s |\n",
    "\"\"\" % (\"leastFreqFlightNum\", \"mostFreqFlightNum\", \"leastFreqTailNum\", \"mostFreqTailNum\", \\\n",
    "       \"%d (%d occurrences)\" % (leastFreqFlightNum[\"FlightNum\"], leastFreqFlightNum[\"Total\"]), \\\n",
    "       \"%d (%d occurrences)\" % (mostFreqFlightNum[\"FlightNum\"], mostFreqFlightNum[\"Total\"]), \\\n",
    "       \"%s (%d occurrences)\" % (leastFreqTailNum[\"TailNum\"], leastFreqTailNum[\"Total\"]), \\\n",
    "       \"%s (%d occurrences)\" % (mostFreqTailNum[\"TailNum\"], mostFreqTailNum[\"Total\"]))))\n",
    "display(Markdown(\"\"\"\n",
    "| %s | %s | %s | %s |\n",
    "|----|----|----|----|\n",
    "| %s | %s | %s | %s |\n",
    "\"\"\" % (\"leastFreqOrigin\", \"mostFreqOrigin\", \"leastFreqDest\", \"mostFreqDest\", \\\n",
    "       \"%s (%d occurrences)\" % (leastFreqOrigin[\"Origin\"], leastFreqOrigin[\"Total\"]), \\\n",
    "       \"%s (%d occurrences)\" % (mostFreqOrigin[\"Origin\"], mostFreqOrigin[\"Total\"]), \\\n",
    "       \"%s (%d occurrences)\" % (leastFreqDest[\"Dest\"], leastFreqDest[\"Total\"]), \\\n",
    "       \"%s (%d occurrences)\" % (mostFreqDest[\"Dest\"], mostFreqDest[\"Total\"]))))"
   ]
  },
  {
   "cell_type": "markdown",
   "metadata": {},
   "source": [
    "### B. Relationship between the business nature of a city and the proportion of flights that arrive early in the morning (e.g. with people in a business travel) with respect to the number of flights arriving during the rest of the day:"
   ]
  },
  {
   "cell_type": "markdown",
   "metadata": {},
   "source": [
    "### C. Proportion of flights arriving in the morning and the afternoon, when comparing to weekdays vs weekends in the aforementioned cities:"
   ]
  },
  {
   "cell_type": "markdown",
   "metadata": {},
   "source": [
    "### D. Cities that receive most flights at weekends, and their connection to the vacation flow of customers:"
   ]
  },
  {
   "cell_type": "markdown",
   "metadata": {},
   "source": [
    "### E. Do more developed cities suffer of smaller arrival delays on average?"
   ]
  },
  {
   "cell_type": "markdown",
   "metadata": {},
   "source": [
    "### F. Relationship between the arrival time and the arrival delay - categorization of the day into discrete parts, for the arrival time (is it the same for all categories of cities?):"
   ]
  },
  {
   "cell_type": "code",
   "execution_count": 18,
   "metadata": {},
   "outputs": [
    {
     "ename": "NameError",
     "evalue": "name 'col' is not defined",
     "output_type": "error",
     "traceback": [
      "\u001b[0;31m---------------------------------------------------------------------------\u001b[0m",
      "\u001b[0;31mNameError\u001b[0m                                 Traceback (most recent call last)",
      "\u001b[0;32m<ipython-input-18-33ee59fe8786>\u001b[0m in \u001b[0;36m<module>\u001b[0;34m\u001b[0m\n\u001b[1;32m      3\u001b[0m \u001b[0mtotalFlights\u001b[0m \u001b[0;34m=\u001b[0m \u001b[0mflightsDF\u001b[0m\u001b[0;34m.\u001b[0m\u001b[0mcount\u001b[0m\u001b[0;34m(\u001b[0m\u001b[0;34m)\u001b[0m\u001b[0;34m\u001b[0m\u001b[0;34m\u001b[0m\u001b[0m\n\u001b[1;32m      4\u001b[0m \u001b[0mdelayCategorizationDF\u001b[0m \u001b[0;34m=\u001b[0m \u001b[0mflightsDF\u001b[0m\u001b[0;31m\\\u001b[0m\u001b[0;34m\u001b[0m\u001b[0;34m\u001b[0m\u001b[0m\n\u001b[0;32m----> 5\u001b[0;31m    \u001b[0;34m.\u001b[0m\u001b[0mwhere\u001b[0m\u001b[0;34m(\u001b[0m\u001b[0mcol\u001b[0m\u001b[0;34m(\u001b[0m\u001b[0;34m\"ArrDelay\"\u001b[0m\u001b[0;34m)\u001b[0m\u001b[0;34m!=\u001b[0m\u001b[0;34m\"NA\"\u001b[0m\u001b[0;34m)\u001b[0m\u001b[0;31m\\\u001b[0m\u001b[0;34m\u001b[0m\u001b[0;34m\u001b[0m\u001b[0m\n\u001b[0m\u001b[1;32m      6\u001b[0m    .withColumn(\"DelaySeverity\", when(col(\"ArrDelay\")<=0,\"1.nodelay\")\\\n\u001b[1;32m      7\u001b[0m                                \u001b[0;34m.\u001b[0m\u001b[0mwhen\u001b[0m\u001b[0;34m(\u001b[0m\u001b[0;34m(\u001b[0m\u001b[0mcol\u001b[0m\u001b[0;34m(\u001b[0m\u001b[0;34m\"ArrDelay\"\u001b[0m\u001b[0;34m)\u001b[0m\u001b[0;34m>\u001b[0m\u001b[0;36m0\u001b[0m\u001b[0;34m)\u001b[0m \u001b[0;34m&\u001b[0m \u001b[0;34m(\u001b[0m\u001b[0mcol\u001b[0m\u001b[0;34m(\u001b[0m\u001b[0;34m\"ArrDelay\"\u001b[0m\u001b[0;34m)\u001b[0m\u001b[0;34m<=\u001b[0m\u001b[0;36m15\u001b[0m\u001b[0;34m)\u001b[0m\u001b[0;34m,\u001b[0m\u001b[0;34m\"2.acceptable\"\u001b[0m\u001b[0;34m)\u001b[0m\u001b[0;31m\\\u001b[0m\u001b[0;34m\u001b[0m\u001b[0;34m\u001b[0m\u001b[0m\n",
      "\u001b[0;31mNameError\u001b[0m: name 'col' is not defined"
     ]
    }
   ],
   "source": [
    "#CATEGORIZATION CODE#\n",
    "\n",
    "totalFlights = flightsDF.count()\n",
    "delayCategorizationDF = flightsDF\\\n",
    "   .where(col(\"ArrDelay\")!=\"NA\")\\\n",
    "   .withColumn(\"DelaySeverity\", when(col(\"ArrDelay\")<=0,\"1.nodelay\")\\\n",
    "                               .when((col(\"ArrDelay\")>0) & (col(\"ArrDelay\")<=15),\"2.acceptable\")\\\n",
    "                               .when((col(\"ArrDelay\")>15) & (col(\"ArrDelay\")<=30),\"3.annoying\")\\\n",
    "                               .when((col(\"ArrDelay\")>30) & (col(\"ArrDelay\")<=60),\"4.impactul\")\\\n",
    "                               .otherwise(\"5.unacceptable\"))\n",
    "\n",
    "#Arrival time VS Arrival Delay#\n",
    "\n",
    "severeDelaysDF = \\\n",
    "  delayCategorizationDF.where((col(\"Cancelled\")==0))\\\n",
    "                       .where((col(\"DelaySeverity\")!=\"1.nodelay\") & (col(\"DelaySeverity\")!=\"2.acceptable\"))\\\n",
    "                       .withColumn(\"IntArrDelay\", col(\"ArrDelay\").cast(IntegerType()))\\\n",
    "                       .withColumn(\"IntCarrierDelay\", col(\"CarrierDelay\").cast(IntegerType()))\\\n",
    "                       .withColumn(\"IntWeatherDelay\", col(\"WeatherDelay\").cast(IntegerType()))\\\n",
    "                       .withColumn(\"IntNASDelay\", col(\"NASDelay\").cast(IntegerType()))\\\n",
    "                       .withColumn(\"IntSecurityDelay\", col(\"SecurityDelay\").cast(IntegerType()))\\\n",
    "                       .withColumn(\"IntLateAircraftDelay\", col(\"LateAircraftDelay\").cast(IntegerType()))\\\n",
    "                       .select(\"DelaySeverity\", \"IntArrDelay\",\"IntCarrierDelay\",\"IntWeatherDelay\",\\\n",
    "                               \"IntNASDelay\", \"IntSecurityDelay\", \"IntLateAircraftDelay\")\n",
    "severeDelaysDF.cache() # optimization to make the processing faster\n",
    "\n",
    "display(Markdown(\"**'Arrival' severe delays basic stats** (in mins):\"))\n",
    "severeDelaysDF.groupBy(\"DelaySeverity\")\\\n",
    "              .agg(avg(\"IntArrDelay\").alias(\"AverageDelay\"),\\\n",
    "                   min(\"IntArrDelay\").alias(\"LowestDelay\"),\\\n",
    "                   max(\"IntArrDelay\").alias(\"HighestDelay\"),\\\n",
    "                   stddev(\"IntArrDelay\").alias(\"StdDevDelay\"))\\\n",
    "              .orderBy(\"DelaySeverity\").show()\n",
    "\n",
    "display(Markdown(\"**'Carrier' severe delays basic stats** (in mins):\"))\n",
    "severeDelaysDF.groupBy(\"DelaySeverity\")\\\n",
    "              .agg(avg(\"IntCarrierDelay\").alias(\"AverageDelay\"),\\\n",
    "                   min(\"IntCarrierDelay\").alias(\"LowestDelay\"),\\\n",
    "                   max(\"IntCarrierDelay\").alias(\"HighestDelay\"),\\\n",
    "                   stddev(\"IntCarrierDelay\").alias(\"StdDevDelay\"))\\\n",
    "              .orderBy(\"DelaySeverity\").show()\n",
    "\n",
    "display(Markdown(\"**'Weather' severe delays basic stats** (in mins):\"))\n",
    "severeDelaysDF.groupBy(\"DelaySeverity\")\\\n",
    "              .agg(avg(\"IntWeatherDelay\").alias(\"AverageDelay\"),\\\n",
    "                   min(\"IntWeatherDelay\").alias(\"LowestDelay\"),\\\n",
    "                   max(\"IntWeatherDelay\").alias(\"HighestDelay\"),\\\n",
    "                   stddev(\"IntWeatherDelay\").alias(\"StdDevDelay\"))\\\n",
    "              .orderBy(\"DelaySeverity\").show()\n",
    "\n",
    "display(Markdown(\"**'NAS' severe delays basic stats** (in mins):\"))\n",
    "severeDelaysDF.groupBy(\"DelaySeverity\")\\\n",
    "              .agg(avg(\"IntNASDelay\").alias(\"AverageDelay\"),\\\n",
    "                   min(\"IntNASDelay\").alias(\"LowestDelay\"),\\\n",
    "                   max(\"IntNASDelay\").alias(\"HighestDelay\"),\\\n",
    "                   stddev(\"IntNASDelay\").alias(\"StdDevDelay\"))\\\n",
    "              .orderBy(\"DelaySeverity\").show()\n",
    "\n",
    "display(Markdown(\"**'Security' severe delays basic stats** (in mins):\"))\n",
    "severeDelaysDF.groupBy(\"DelaySeverity\")\\\n",
    "              .agg(avg(\"IntSecurityDelay\").alias(\"AverageDelay\"),\\\n",
    "                   min(\"IntSecurityDelay\").alias(\"LowestDelay\"),\\\n",
    "                   max(\"IntSecurityDelay\").alias(\"HighestDelay\"),\\\n",
    "                   stddev(\"IntSecurityDelay\").alias(\"StdDevDelay\"))\\\n",
    "              .orderBy(\"DelaySeverity\").show()\n",
    "\n",
    "display(Markdown(\"**'LateAircraft' severe delays basic stats** (in mins):\"))\n",
    "severeDelaysDF.groupBy(\"DelaySeverity\")\\\n",
    "              .agg(avg(\"IntLateAircraftDelay\").alias(\"AverageDelay\"),\\\n",
    "                   min(\"IntLateAircraftDelay\").alias(\"LowestDelay\"),\\\n",
    "                   max(\"IntLateAircraftDelay\").alias(\"HighestDelay\"),\\\n",
    "                   stddev(\"IntLateAircraftDelay\").alias(\"StdDevDelay\"))\\\n",
    "              .orderBy(\"DelaySeverity\").show()"
   ]
  },
  {
   "cell_type": "markdown",
   "metadata": {},
   "source": [
    "### G. What about the departure time?"
   ]
  },
  {
   "cell_type": "code",
   "execution_count": null,
   "metadata": {},
   "outputs": [],
   "source": [
    "##DEPARTURE TIME##\n",
    "\n",
    "severeDelaysDF = \\\n",
    "  delayCategorizationDF.where((col(\"Cancelled\")==0))\\\n",
    "                       .where((col(\"DelaySeverity\")!=\"1.nodelay\") & (col(\"DelaySeverity\")!=\"2.acceptable\"))\\\n",
    "                       .withColumn(\"IntArrDelay\", col(\"ArrDelay\").cast(IntegerType()))\\\n",
    "                       .withColumn(\"IntCarrierDelay\", col(\"CarrierDelay\").cast(IntegerType()))\\\n",
    "                       .withColumn(\"IntWeatherDelay\", col(\"WeatherDelay\").cast(IntegerType()))\\\n",
    "                       .withColumn(\"IntNASDelay\", col(\"NASDelay\").cast(IntegerType()))\\\n",
    "                       .withColumn(\"IntSecurityDelay\", col(\"SecurityDelay\").cast(IntegerType()))\\\n",
    "                       .withColumn(\"IntLateAircraftDelay\", col(\"LateAircraftDelay\").cast(IntegerType()))\\\n",
    "                       .select(\"DelaySeverity\", \"IntArrDelay\",\"IntCarrierDelay\",\"IntWeatherDelay\",\\\n",
    "                               \"IntNASDelay\", \"IntSecurityDelay\", \"IntLateAircraftDelay\")\n",
    "severeDelaysDF.cache() # optimization to make the processing faster\n",
    "\n",
    "display(Markdown(\"**'Arrival' severe delays basic stats** (in mins):\"))\n",
    "severeDelaysDF.groupBy(\"DelaySeverity\")\\\n",
    "              .agg(avg(\"IntArrDelay\").alias(\"AverageDelay\"),\\\n",
    "                   min(\"IntArrDelay\").alias(\"LowestDelay\"),\\\n",
    "                   max(\"IntArrDelay\").alias(\"HighestDelay\"),\\\n",
    "                   stddev(\"IntArrDelay\").alias(\"StdDevDelay\"))\\\n",
    "              .orderBy(\"DelaySeverity\").show()\n",
    "\n",
    "display(Markdown(\"**'Carrier' severe delays basic stats** (in mins):\"))\n",
    "severeDelaysDF.groupBy(\"DelaySeverity\")\\\n",
    "              .agg(avg(\"IntCarrierDelay\").alias(\"AverageDelay\"),\\\n",
    "                   min(\"IntCarrierDelay\").alias(\"LowestDelay\"),\\\n",
    "                   max(\"IntCarrierDelay\").alias(\"HighestDelay\"),\\\n",
    "                   stddev(\"IntCarrierDelay\").alias(\"StdDevDelay\"))\\\n",
    "              .orderBy(\"DelaySeverity\").show()\n",
    "\n",
    "display(Markdown(\"**'Weather' severe delays basic stats** (in mins):\"))\n",
    "severeDelaysDF.groupBy(\"DelaySeverity\")\\\n",
    "              .agg(avg(\"IntWeatherDelay\").alias(\"AverageDelay\"),\\\n",
    "                   min(\"IntWeatherDelay\").alias(\"LowestDelay\"),\\\n",
    "                   max(\"IntWeatherDelay\").alias(\"HighestDelay\"),\\\n",
    "                   stddev(\"IntWeatherDelay\").alias(\"StdDevDelay\"))\\\n",
    "              .orderBy(\"DelaySeverity\").show()\n",
    "\n",
    "display(Markdown(\"**'NAS' severe delays basic stats** (in mins):\"))\n",
    "severeDelaysDF.groupBy(\"DelaySeverity\")\\\n",
    "              .agg(avg(\"IntNASDelay\").alias(\"AverageDelay\"),\\\n",
    "                   min(\"IntNASDelay\").alias(\"LowestDelay\"),\\\n",
    "                   max(\"IntNASDelay\").alias(\"HighestDelay\"),\\\n",
    "                   stddev(\"IntNASDelay\").alias(\"StdDevDelay\"))\\\n",
    "              .orderBy(\"DelaySeverity\").show()\n",
    "\n",
    "display(Markdown(\"**'Security' severe delays basic stats** (in mins):\"))\n",
    "severeDelaysDF.groupBy(\"DelaySeverity\")\\\n",
    "              .agg(avg(\"IntSecurityDelay\").alias(\"AverageDelay\"),\\\n",
    "                   min(\"IntSecurityDelay\").alias(\"LowestDelay\"),\\\n",
    "                   max(\"IntSecurityDelay\").alias(\"HighestDelay\"),\\\n",
    "                   stddev(\"IntSecurityDelay\").alias(\"StdDevDelay\"))\\\n",
    "              .orderBy(\"DelaySeverity\").show()\n",
    "\n",
    "display(Markdown(\"**'LateAircraft' severe delays basic stats** (in mins):\"))\n",
    "severeDelaysDF.groupBy(\"DelaySeverity\")\\\n",
    "              .agg(avg(\"IntLateAircraftDelay\").alias(\"AverageDelay\"),\\\n",
    "                   min(\"IntLateAircraftDelay\").alias(\"LowestDelay\"),\\\n",
    "                   max(\"IntLateAircraftDelay\").alias(\"HighestDelay\"),\\\n",
    "                   stddev(\"IntLateAircraftDelay\").alias(\"StdDevDelay\"))\\\n",
    "              .orderBy(\"DelaySeverity\").show()"
   ]
  }
 ],
 "metadata": {
  "kernelspec": {
   "display_name": "Python 3",
   "language": "python",
   "name": "python3"
  },
  "language_info": {
   "codemirror_mode": {
    "name": "ipython",
    "version": 3
   },
   "file_extension": ".py",
   "mimetype": "text/x-python",
   "name": "python",
   "nbconvert_exporter": "python",
   "pygments_lexer": "ipython3",
   "version": "3.7.3"
  }
 },
 "nbformat": 4,
 "nbformat_minor": 2
}
