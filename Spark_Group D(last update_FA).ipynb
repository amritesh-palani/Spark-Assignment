{
 "cells": [
  {
   "cell_type": "markdown",
   "metadata": {},
   "source": [
    "# Spark Group D Assigment\n",
    "### An analysis on the U.S. states with relations to the time of departure and arrival to the respective airports (given the 'Flights Dataset', discussed in class)."
   ]
  },
  {
   "cell_type": "markdown",
   "metadata": {},
   "source": [
    "### @Authors\n",
    " - Sandra Alemayehu\n",
    " - Frederico Andrade\n",
    " - Fernando Llopis\n",
    " - Amritesh Palani\n",
    " - Carmen Roldan\n",
    " - Bibake Uppal"
   ]
  },
  {
   "cell_type": "markdown",
   "metadata": {},
   "source": [
    "## \"INDEX\""
   ]
  },
  {
   "cell_type": "markdown",
   "metadata": {},
   "source": [
    "## 1. Introduction to the our Dataset (\"flights_jan08.csv\")"
   ]
  },
  {
   "cell_type": "markdown",
   "metadata": {},
   "source": [
    "According to a 2010 report made by the US Federal Aviation Administration, the economic price of domestic flight delays entails a yearly cost of 32.9 billion dollars to passengers, airlines and other parts of the economy. More than half of that amount comes from passengers' pockets, as they do not only waste time waiting for their planes to leave, but also miss connecting flights, spend money on food and have to sleep on hotel rooms while they're stranded.\n",
    "\n",
    "The report, focusing on data from year 2007, estimated that air transportation delays put a 4 billion dollar dent in the country's gross domestic product that year. Full report can be found \n",
    "<a href=\"http://www.isr.umd.edu/NEXTOR/pubs/TDI_Report_Final_10_18_10_V3.pdf\">here</a>.\n",
    "\n",
    "But which are the causes for these delays?\n",
    "\n",
    "In order to answer this question, we are going to analyze the provided dataset, containing up to 1.936.758 different internal flights in the US for 2008 and their causes for delay, diversion and cancellation; if any.\n",
    "\n",
    "The data comes from the U.S. Department of Transportation's (DOT) Bureau of Transportation Statistics (BTS)\n",
    "\n",
    "This dataset is composed by the following variables:\n",
    "\n",
    "1. **Year** 2008\n",
    "2. **Month** 1\n",
    "3. **DayofMonth** 1-31\n",
    "4. **DayOfWeek** 1 (Monday) - 7 (Sunday)\n",
    "5. **DepTime** actual departure time (local, hhmm)\n",
    "6. **CRSDepTime** scheduled departure time (local, hhmm)\n",
    "7. **ArrTime** actual arrival time (local, hhmm)\n",
    "8. **CRSArrTime** scheduled arrival time (local, hhmm)\n",
    "9. **UniqueCarrie**r unique carrier code\n",
    "10. **FlightNum** flight number\n",
    "11. **TailNum** plane tail number: aircraft registration, unique aircraft identifier\n",
    "12. **ActualElapsedTime** in minutes\n",
    "13. **CRSElapsedTime** in minutes\n",
    "14. **AirTime** in minutes\n",
    "15. **ArrDelay** arrival delay, in minutes: A flight is counted as \"on time\" if it operated less than 15 minutes later the scheduled time shown in the carriers' Computerized Reservations Systems (CRS).\n",
    "16. **DepDelay** departure delay, in minutes\n",
    "17. **Origin** origin IATA airport code\n",
    "18. **Dest** destination IATA airport code\n",
    "19. **Distance** in miles\n",
    "20. **TaxiIn** taxi in time, in minutes\n",
    "21. **TaxiOut** taxi out time in minutes\n",
    "22. **Cancelled** *was the flight cancelled\n",
    "23. **CancellationCode** reason for cancellation (A = carrier, B = weather, C = NAS, D = security)\n",
    "24. **Diverted** 1 = yes, 0 = no\n",
    "25. **CarrierDelay** in minutes: Carrier delay is within the control of the air carrier. Examples of occurrences that may determine carrier delay are: aircraft cleaning, aircraft damage, awaiting the arrival of connecting passengers or crew, baggage, bird strike, cargo loading, catering, computer, outage-carrier equipment, crew legality (pilot or attendant rest), damage by hazardous goods, engineering inspection, fueling, handling disabled passengers, late crew, lavatory servicing, maintenance, oversales, potable water servicing, removal of unruly passenger, slow boarding or seating, stowing carry-on baggage, weight and balance delays.\n",
    "26. **WeatherDelay** in minutes: Weather delay is caused by extreme or hazardous weather conditions that are forecasted or manifest themselves on point of departure, enroute, or on point of arrival.\n",
    "27. **NASDelay** in minutes: Delay that is within the control of the National Airspace System (NAS) may include: non-extreme weather conditions, airport operations, heavy traffic volume, air traffic control, etc.\n",
    "28. **SecurityDelay** in minutes: Security delay is caused by evacuation of a terminal or concourse, re-boarding of aircraft because of security breach, inoperative screening equipment and/or long lines in excess of 29 minutes at screening areas.\n",
    "29. **LateAircraftDelay** in minutes: Arrival delay at an airport due to the late arrival of the same aircraft at a previous airport. The ripple effect of an earlier delay at downstream airports is referred to as delay propagation\n",
    "30. **State** all 50 states of the United States.\n",
    "31. **Population** integer: total population of each state.\n",
    "32. **GDP per capita** integer: total gdp per capita for each state.\n",
    "33. **Unemployment rate** float: percentage of unemployment accross each state.\n",
    "34. **Poverty** integer: poverty rates for each state.\n",
    "35. **Agriculture** \n",
    "36. **Services**\n",
    "37. **Construction**\n",
    "38. **Financial Services**\n",
    "39. **Technology**\n",
    "40. **Industry**\n",
    "41. **Travelling and Tourism**"
   ]
  },
  {
   "cell_type": "markdown",
   "metadata": {},
   "source": [
    "## 2. Pyskark Environment Setup"
   ]
  },
  {
   "cell_type": "code",
   "execution_count": 1,
   "metadata": {},
   "outputs": [],
   "source": [
    "import findspark\n",
    "findspark.init()"
   ]
  },
  {
   "cell_type": "code",
   "execution_count": 2,
   "metadata": {},
   "outputs": [
    {
     "data": {
      "text/plain": [
       "'/opt/spark-2.4.4-bin-hadoop2.7'"
      ]
     },
     "execution_count": 2,
     "metadata": {},
     "output_type": "execute_result"
    }
   ],
   "source": [
    "findspark.find()\n",
    "import pyspark\n",
    "findspark.find()"
   ]
  },
  {
   "cell_type": "code",
   "execution_count": 3,
   "metadata": {},
   "outputs": [],
   "source": [
    "from pyspark import SparkContext, SparkConf\n",
    "from pyspark.sql import SparkSession\n",
    "\n",
    "conf = pyspark.SparkConf().setAppName('appName').setMaster('local[4]')\n",
    "sc = pyspark.SparkContext(conf=conf)\n",
    "spark = SparkSession(sc)"
   ]
  },
  {
   "cell_type": "markdown",
   "metadata": {},
   "source": [
    "## 3. DataFrame Setup & Dataset Overview"
   ]
  },
  {
   "cell_type": "markdown",
   "metadata": {},
   "source": [
    "Reading the Data:"
   ]
  },
  {
   "cell_type": "code",
   "execution_count": 72,
   "metadata": {},
   "outputs": [],
   "source": [
    "import pyspark.sql.functions as F\n",
    "import pandas as pd"
   ]
  },
  {
   "cell_type": "markdown",
   "metadata": {},
   "source": [
    "### Flights"
   ]
  },
  {
   "cell_type": "code",
   "execution_count": 120,
   "metadata": {},
   "outputs": [],
   "source": [
    "Flights08 = spark.read\\\n",
    "                 .option(\"header\", \"true\")\\\n",
    "                 .option(\"inferSchema\", \"true\")\\\n",
    "                 .csv(\"flights_jan08.csv\")"
   ]
  },
  {
   "cell_type": "code",
   "execution_count": 122,
   "metadata": {},
   "outputs": [],
   "source": [
    "airports = spark.read\\\n",
    "                .option(\"header\", \"true\")\\\n",
    "                .option(\"inferSchema\", \"true\")\\\n",
    "                .csv(\"airports.csv\")\n",
    "\n",
    "airports_clean = airports.where((F.col(\"iso_country\") == 'US') & (F.col(\"iata_code\").isNotNull()))\\\n",
    "                   .withColumn('state', F.col('iso_region').substr(4,10))\\\n",
    "                   .select(\"iata_code\", 'state')"
   ]
  },
  {
   "cell_type": "code",
   "execution_count": 136,
   "metadata": {},
   "outputs": [
    {
     "name": "stdout",
     "output_type": "stream",
     "text": [
      "root\n",
      " |-- Year: integer (nullable = true)\n",
      " |-- Month: integer (nullable = true)\n",
      " |-- DayofMonth: integer (nullable = true)\n",
      " |-- DayOfWeek: integer (nullable = true)\n",
      " |-- DepTime: string (nullable = true)\n",
      " |-- CRSDepTime: integer (nullable = true)\n",
      " |-- ArrTime: string (nullable = true)\n",
      " |-- CRSArrTime: integer (nullable = true)\n",
      " |-- UniqueCarrier: string (nullable = true)\n",
      " |-- FlightNum: integer (nullable = true)\n",
      " |-- TailNum: string (nullable = true)\n",
      " |-- ActualElapsedTime: string (nullable = true)\n",
      " |-- CRSElapsedTime: integer (nullable = true)\n",
      " |-- AirTime: string (nullable = true)\n",
      " |-- ArrDelay: string (nullable = true)\n",
      " |-- DepDelay: string (nullable = true)\n",
      " |-- Origin: string (nullable = true)\n",
      " |-- Dest: string (nullable = true)\n",
      " |-- Distance: integer (nullable = true)\n",
      " |-- TaxiIn: string (nullable = true)\n",
      " |-- TaxiOut: string (nullable = true)\n",
      " |-- Cancelled: integer (nullable = true)\n",
      " |-- CancellationCode: string (nullable = true)\n",
      " |-- Diverted: integer (nullable = true)\n",
      " |-- CarrierDelay: string (nullable = true)\n",
      " |-- WeatherDelay: string (nullable = true)\n",
      " |-- NASDelay: string (nullable = true)\n",
      " |-- SecurityDelay: string (nullable = true)\n",
      " |-- LateAircraftDelay: string (nullable = true)\n",
      " |-- Origin_state: string (nullable = true)\n",
      " |-- Dest_state: string (nullable = true)\n",
      "\n"
     ]
    }
   ],
   "source": [
    "flightsDF = Flights08.join(airports_clean, Flights08.Origin == airports_clean.iata_code, how = 'left')\\\n",
    "                     .withColumnRenamed(\"state\", 'Origin_state')\\\n",
    "                     .drop(\"iata_code\")\\\n",
    "                     .join(airports_clean, Flights08.Dest == airports_clean.iata_code, how = 'left')\\\n",
    "                     .withColumnRenamed(\"state\", 'Dest_state')\\\n",
    "                     .drop(\"iata_code\")\n",
    "\n",
    "flightsDF.printSchema()"
   ]
  },
  {
   "cell_type": "markdown",
   "metadata": {},
   "source": [
    "### State Economics"
   ]
  },
  {
   "cell_type": "code",
   "execution_count": 137,
   "metadata": {},
   "outputs": [],
   "source": [
    "states08 = spark.read\\\n",
    "                .option(\"header\", \"true\")\\\n",
    "                .option(\"sep\", \";\")\\\n",
    "                .option(\"inferSchema\", \"true\")\\\n",
    "                .csv(\"economic_data.csv\")"
   ]
  },
  {
   "cell_type": "code",
   "execution_count": 138,
   "metadata": {},
   "outputs": [],
   "source": [
    "# Source: https://data.world/uscensusbureau/fips-state-codes\n",
    "\n",
    "state_codes = spark.createDataFrame(pd.read_csv('https://query.data.world/s/jwcnjqlganbi5nbnmn7pnqegyjzhfl'))\n",
    "\n",
    "state_codes_clean = state_codes.select('STUSAB', 'STATE_NAME')\\\n",
    "                               .withColumnRenamed(\"STUSAB\", 'STATE_CODE')"
   ]
  },
  {
   "cell_type": "code",
   "execution_count": 142,
   "metadata": {},
   "outputs": [
    {
     "name": "stdout",
     "output_type": "stream",
     "text": [
      "root\n",
      " |-- State: string (nullable = true)\n",
      " |-- Population: integer (nullable = true)\n",
      " |-- GDP per capita: integer (nullable = true)\n",
      " |-- Unemployment Rate: double (nullable = true)\n",
      " |-- Poverty: integer (nullable = true)\n",
      " |-- Agriculture: integer (nullable = true)\n",
      " |-- Services: integer (nullable = true)\n",
      " |-- Construction: integer (nullable = true)\n",
      " |-- Financial activities: integer (nullable = true)\n",
      " |-- Technology: integer (nullable = true)\n",
      " |-- Industry: integer (nullable = true)\n",
      " |-- Travelling and turism: integer (nullable = true)\n",
      " |-- STATE_CODE: string (nullable = true)\n",
      "\n"
     ]
    }
   ],
   "source": [
    "statesDF = states08.join(state_codes_clean, states08.State == state_codes_clean.STATE_NAME, how = 'left')\\\n",
    "                   .drop('STATE_NAME')\n",
    "\n",
    "statesDF.printSchema()"
   ]
  },
  {
   "cell_type": "code",
   "execution_count": 140,
   "metadata": {},
   "outputs": [
    {
     "name": "stdout",
     "output_type": "stream",
     "text": [
      "The January Flights 2008 DataFrame has 100000 rows.\n",
      "The United States 2008 DataFrame has 51 rows.\n"
     ]
    }
   ],
   "source": [
    "print(\"The January Flights 2008 DataFrame has {} rows.\".format(flightsDF.count()))\n",
    "print(\"The United States 2008 DataFrame has {} rows.\".format(statesDF.count()))"
   ]
  },
  {
   "cell_type": "markdown",
   "metadata": {},
   "source": [
    "## 4. Joining the two Datasets"
   ]
  },
  {
   "cell_type": "code",
   "execution_count": null,
   "metadata": {},
   "outputs": [],
   "source": [
    "FlightsStatesDF = Flights08.join(USStates08)\n",
    "\n",
    "FlightsStatesDF.printSchema()\n",
    "FlightsStatesDF.show(5)\n",
    "\n",
    "display(Markdown(\"The joint flights DataFrame has **%d** rows.\" % FlightsStatesDF.count()))"
   ]
  },
  {
   "cell_type": "markdown",
   "metadata": {},
   "source": [
    "## 5. Analysis (answering the proposed questions)"
   ]
  },
  {
   "cell_type": "markdown",
   "metadata": {},
   "source": [
    "### A. Relationship between the economic prosperity of a city and the proportion of flight arrivals during the weekdays and weekends:"
   ]
  },
  {
   "cell_type": "markdown",
   "metadata": {},
   "source": [
    "First of all, let's summarize our cities according to their economic prosperity.\n",
    "This operation is based on the available economic indicators (already addressed in the description of our dataset).\n",
    "Although we can rank our cities according to different and diverse indicators, we have chosen to represent our hierarchy according to the \"GDP Per Capita\":"
   ]
  },
  {
   "cell_type": "code",
   "execution_count": null,
   "metadata": {},
   "outputs": [],
   "source": [
    "TotalGDPDF = \\\n",
    "   FlightsStatesDF.groupBy(\"State\")\\\n",
    "            .agg(count(\"GDP per capita\").alias(\"TotalGDP\"))\n",
    "\n",
    "combinedDF.cache() # optimization to make the processing faster\n",
    "\n",
    "display(Markdown(\"**States analysis on GDP Per Capita (in \\%):\"))\n",
    "TotalGDPDF.limit(50).show()\n",
    "TotalGDPDF\\\n",
    "   .groupBy(\"State\")\\\n",
    "   .limit(50).show()"
   ]
  },
  {
   "cell_type": "code",
   "execution_count": null,
   "metadata": {},
   "outputs": [],
   "source": [
    "FlightsWeekDF = FlightsStatesDF.withColumn(\"DayOfWeek\",when((col(\"DayOfWeek\")>=1) & (col(\"DayOfWeek\")<=5),\"Weekdays\")\\\n",
    "                               .when((col(\"DayOfWeek\")>5) & (col(\"DayOfWeek\")<=7),\"Weekend\"))\n",
    "\n",
    "print(\"*Most 20: Flight By Destination: Week VS Weekend:*\")\n",
    "\n",
    "FlightsWeekDF.groupBy(\"Dest\").pivot(\"DayOfWeek\").count().orderBy(col(\"Weekdays\").desc()).show()\n",
    "\n",
    "print(\"*Least 20: Flight By Destination: Week VS Weekend:*\")\n",
    "\n",
    "CrimeWeekDF.groupBy(\"CRIME_TYPE\").pivot(\"DAY_OF_WEEK\").count().orderBy(col(\"Week\").asc()).show()"
   ]
  },
  {
   "cell_type": "code",
   "execution_count": null,
   "metadata": {},
   "outputs": [],
   "source": [
    "print (\"Most and least frequent occurrences for FlightNum, TailNum, Origin and Dest columns:\")\n",
    "FlightNumDF = flightsDF.groupBy(\"FlightNum\").agg(count(lit(1)).alias(\"Total\"))\n",
    "TailNumDF   = flightsDF.groupBy(\"TailNum\").agg(count(lit(1)).alias(\"Total\"))\n",
    "OriginDF    = flightsDF.groupBy(\"Origin\").agg(count(lit(1)).alias(\"Total\"))\n",
    "DestDF      = flightsDF.groupBy(\"Dest\").agg(count(lit(1)).alias(\"Total\"))\n",
    "\n",
    "leastFreqFlightNum    = FlightNumDF.orderBy(col(\"Total\").asc()).first()\n",
    "mostFreqFlightNum     = FlightNumDF.orderBy(col(\"Total\").desc()).first()\n",
    "leastFreqTailNum      = TailNumDF.orderBy(col(\"Total\").asc()).first()\n",
    "mostFreqTailNum       = TailNumDF.orderBy(col(\"Total\").desc()).first()\n",
    "leastFreqOrigin       = OriginDF.orderBy(col(\"Total\").asc()).first()\n",
    "mostFreqOrigin        = OriginDF.orderBy(col(\"Total\").desc()).first()\n",
    "leastFreqDest         = DestDF.orderBy(col(\"Total\").asc()).first()\n",
    "mostFreqDest          = DestDF.orderBy(col(\"Total\").desc()).first()\n",
    "\n",
    "display(Markdown(\"\"\"\n",
    "| %s | %s | %s | %s |\n",
    "|----|----|----|----|\n",
    "| %s | %s | %s | %s |\n",
    "\"\"\" % (\"leastFreqFlightNum\", \"mostFreqFlightNum\", \"leastFreqTailNum\", \"mostFreqTailNum\", \\\n",
    "       \"%d (%d occurrences)\" % (leastFreqFlightNum[\"FlightNum\"], leastFreqFlightNum[\"Total\"]), \\\n",
    "       \"%d (%d occurrences)\" % (mostFreqFlightNum[\"FlightNum\"], mostFreqFlightNum[\"Total\"]), \\\n",
    "       \"%s (%d occurrences)\" % (leastFreqTailNum[\"TailNum\"], leastFreqTailNum[\"Total\"]), \\\n",
    "       \"%s (%d occurrences)\" % (mostFreqTailNum[\"TailNum\"], mostFreqTailNum[\"Total\"]))))\n",
    "display(Markdown(\"\"\"\n",
    "| %s | %s | %s | %s |\n",
    "|----|----|----|----|\n",
    "| %s | %s | %s | %s |\n",
    "\"\"\" % (\"leastFreqOrigin\", \"mostFreqOrigin\", \"leastFreqDest\", \"mostFreqDest\", \\\n",
    "       \"%s (%d occurrences)\" % (leastFreqOrigin[\"Origin\"], leastFreqOrigin[\"Total\"]), \\\n",
    "       \"%s (%d occurrences)\" % (mostFreqOrigin[\"Origin\"], mostFreqOrigin[\"Total\"]), \\\n",
    "       \"%s (%d occurrences)\" % (leastFreqDest[\"Dest\"], leastFreqDest[\"Total\"]), \\\n",
    "       \"%s (%d occurrences)\" % (mostFreqDest[\"Dest\"], mostFreqDest[\"Total\"]))))"
   ]
  },
  {
   "cell_type": "markdown",
   "metadata": {},
   "source": [
    "### B. Relationship between the business nature of a city and the proportion of flights that arrive early in the morning (e.g. with people in a business travel) with respect to the number of flights arriving during the rest of the day:"
   ]
  },
  {
   "cell_type": "markdown",
   "metadata": {},
   "source": [
    "### C. Proportion of flights arriving in the morning and the afternoon, when comparing to weekdays vs weekends in the aforementioned cities:"
   ]
  },
  {
   "cell_type": "markdown",
   "metadata": {},
   "source": [
    "### D. Cities that receive most flights at weekends, and their connection to the vacation flow of customers:"
   ]
  },
  {
   "cell_type": "markdown",
   "metadata": {},
   "source": [
    "### E. Do more developed cities suffer of smaller arrival delays on average?"
   ]
  },
  {
   "cell_type": "markdown",
   "metadata": {},
   "source": [
    "### F. Relationship between the arrival time and the arrival delay - categorization of the day into discrete parts, for the arrival time (is it the same for all categories of cities?):"
   ]
  },
  {
   "cell_type": "code",
   "execution_count": null,
   "metadata": {},
   "outputs": [],
   "source": [
    "#CATEGORIZATION CODE#\n",
    "\n",
    "totalFlights = flightsDF.count()\n",
    "delayCategorizationDF = flightsDF\\\n",
    "   .where(col(\"ArrDelay\")!=\"NA\")\\\n",
    "   .withColumn(\"DelaySeverity\", when(col(\"ArrDelay\")<=0,\"1.nodelay\")\\\n",
    "                               .when((col(\"ArrDelay\")>0) & (col(\"ArrDelay\")<=15),\"2.acceptable\")\\\n",
    "                               .when((col(\"ArrDelay\")>15) & (col(\"ArrDelay\")<=30),\"3.annoying\")\\\n",
    "                               .when((col(\"ArrDelay\")>30) & (col(\"ArrDelay\")<=60),\"4.impactul\")\\\n",
    "                               .otherwise(\"5.unacceptable\"))\n",
    "\n",
    "#Arrival time VS Arrival Delay#\n",
    "\n",
    "severeDelaysDF = \\\n",
    "  delayCategorizationDF.where((col(\"Cancelled\")==0))\\\n",
    "                       .where((col(\"DelaySeverity\")!=\"1.nodelay\") & (col(\"DelaySeverity\")!=\"2.acceptable\"))\\\n",
    "                       .withColumn(\"IntArrDelay\", col(\"ArrDelay\").cast(IntegerType()))\\\n",
    "                       .withColumn(\"IntCarrierDelay\", col(\"CarrierDelay\").cast(IntegerType()))\\\n",
    "                       .withColumn(\"IntWeatherDelay\", col(\"WeatherDelay\").cast(IntegerType()))\\\n",
    "                       .withColumn(\"IntNASDelay\", col(\"NASDelay\").cast(IntegerType()))\\\n",
    "                       .withColumn(\"IntSecurityDelay\", col(\"SecurityDelay\").cast(IntegerType()))\\\n",
    "                       .withColumn(\"IntLateAircraftDelay\", col(\"LateAircraftDelay\").cast(IntegerType()))\\\n",
    "                       .select(\"DelaySeverity\", \"IntArrDelay\",\"IntCarrierDelay\",\"IntWeatherDelay\",\\\n",
    "                               \"IntNASDelay\", \"IntSecurityDelay\", \"IntLateAircraftDelay\")\n",
    "severeDelaysDF.cache() # optimization to make the processing faster\n",
    "\n",
    "display(Markdown(\"**'Arrival' severe delays basic stats** (in mins):\"))\n",
    "severeDelaysDF.groupBy(\"DelaySeverity\")\\\n",
    "              .agg(avg(\"IntArrDelay\").alias(\"AverageDelay\"),\\\n",
    "                   min(\"IntArrDelay\").alias(\"LowestDelay\"),\\\n",
    "                   max(\"IntArrDelay\").alias(\"HighestDelay\"),\\\n",
    "                   stddev(\"IntArrDelay\").alias(\"StdDevDelay\"))\\\n",
    "              .orderBy(\"DelaySeverity\").show()\n",
    "\n",
    "display(Markdown(\"**'Carrier' severe delays basic stats** (in mins):\"))\n",
    "severeDelaysDF.groupBy(\"DelaySeverity\")\\\n",
    "              .agg(avg(\"IntCarrierDelay\").alias(\"AverageDelay\"),\\\n",
    "                   min(\"IntCarrierDelay\").alias(\"LowestDelay\"),\\\n",
    "                   max(\"IntCarrierDelay\").alias(\"HighestDelay\"),\\\n",
    "                   stddev(\"IntCarrierDelay\").alias(\"StdDevDelay\"))\\\n",
    "              .orderBy(\"DelaySeverity\").show()\n",
    "\n",
    "display(Markdown(\"**'Weather' severe delays basic stats** (in mins):\"))\n",
    "severeDelaysDF.groupBy(\"DelaySeverity\")\\\n",
    "              .agg(avg(\"IntWeatherDelay\").alias(\"AverageDelay\"),\\\n",
    "                   min(\"IntWeatherDelay\").alias(\"LowestDelay\"),\\\n",
    "                   max(\"IntWeatherDelay\").alias(\"HighestDelay\"),\\\n",
    "                   stddev(\"IntWeatherDelay\").alias(\"StdDevDelay\"))\\\n",
    "              .orderBy(\"DelaySeverity\").show()\n",
    "\n",
    "display(Markdown(\"**'NAS' severe delays basic stats** (in mins):\"))\n",
    "severeDelaysDF.groupBy(\"DelaySeverity\")\\\n",
    "              .agg(avg(\"IntNASDelay\").alias(\"AverageDelay\"),\\\n",
    "                   min(\"IntNASDelay\").alias(\"LowestDelay\"),\\\n",
    "                   max(\"IntNASDelay\").alias(\"HighestDelay\"),\\\n",
    "                   stddev(\"IntNASDelay\").alias(\"StdDevDelay\"))\\\n",
    "              .orderBy(\"DelaySeverity\").show()\n",
    "\n",
    "display(Markdown(\"**'Security' severe delays basic stats** (in mins):\"))\n",
    "severeDelaysDF.groupBy(\"DelaySeverity\")\\\n",
    "              .agg(avg(\"IntSecurityDelay\").alias(\"AverageDelay\"),\\\n",
    "                   min(\"IntSecurityDelay\").alias(\"LowestDelay\"),\\\n",
    "                   max(\"IntSecurityDelay\").alias(\"HighestDelay\"),\\\n",
    "                   stddev(\"IntSecurityDelay\").alias(\"StdDevDelay\"))\\\n",
    "              .orderBy(\"DelaySeverity\").show()\n",
    "\n",
    "display(Markdown(\"**'LateAircraft' severe delays basic stats** (in mins):\"))\n",
    "severeDelaysDF.groupBy(\"DelaySeverity\")\\\n",
    "              .agg(avg(\"IntLateAircraftDelay\").alias(\"AverageDelay\"),\\\n",
    "                   min(\"IntLateAircraftDelay\").alias(\"LowestDelay\"),\\\n",
    "                   max(\"IntLateAircraftDelay\").alias(\"HighestDelay\"),\\\n",
    "                   stddev(\"IntLateAircraftDelay\").alias(\"StdDevDelay\"))\\\n",
    "              .orderBy(\"DelaySeverity\").show()"
   ]
  },
  {
   "cell_type": "markdown",
   "metadata": {},
   "source": [
    "### G. What about the departure time?"
   ]
  },
  {
   "cell_type": "code",
   "execution_count": null,
   "metadata": {},
   "outputs": [],
   "source": [
    "##DEPARTURE TIME##\n",
    "\n",
    "severeDelaysDF = \\\n",
    "  delayCategorizationDF.where((col(\"Cancelled\")==0))\\\n",
    "                       .where((col(\"DelaySeverity\")!=\"1.nodelay\") & (col(\"DelaySeverity\")!=\"2.acceptable\"))\\\n",
    "                       .withColumn(\"IntArrDelay\", col(\"ArrDelay\").cast(IntegerType()))\\\n",
    "                       .withColumn(\"IntCarrierDelay\", col(\"CarrierDelay\").cast(IntegerType()))\\\n",
    "                       .withColumn(\"IntWeatherDelay\", col(\"WeatherDelay\").cast(IntegerType()))\\\n",
    "                       .withColumn(\"IntNASDelay\", col(\"NASDelay\").cast(IntegerType()))\\\n",
    "                       .withColumn(\"IntSecurityDelay\", col(\"SecurityDelay\").cast(IntegerType()))\\\n",
    "                       .withColumn(\"IntLateAircraftDelay\", col(\"LateAircraftDelay\").cast(IntegerType()))\\\n",
    "                       .select(\"DelaySeverity\", \"IntArrDelay\",\"IntCarrierDelay\",\"IntWeatherDelay\",\\\n",
    "                               \"IntNASDelay\", \"IntSecurityDelay\", \"IntLateAircraftDelay\")\n",
    "severeDelaysDF.cache() # optimization to make the processing faster\n",
    "\n",
    "display(Markdown(\"**'Arrival' severe delays basic stats** (in mins):\"))\n",
    "severeDelaysDF.groupBy(\"DelaySeverity\")\\\n",
    "              .agg(avg(\"IntArrDelay\").alias(\"AverageDelay\"),\\\n",
    "                   min(\"IntArrDelay\").alias(\"LowestDelay\"),\\\n",
    "                   max(\"IntArrDelay\").alias(\"HighestDelay\"),\\\n",
    "                   stddev(\"IntArrDelay\").alias(\"StdDevDelay\"))\\\n",
    "              .orderBy(\"DelaySeverity\").show()\n",
    "\n",
    "display(Markdown(\"**'Carrier' severe delays basic stats** (in mins):\"))\n",
    "severeDelaysDF.groupBy(\"DelaySeverity\")\\\n",
    "              .agg(avg(\"IntCarrierDelay\").alias(\"AverageDelay\"),\\\n",
    "                   min(\"IntCarrierDelay\").alias(\"LowestDelay\"),\\\n",
    "                   max(\"IntCarrierDelay\").alias(\"HighestDelay\"),\\\n",
    "                   stddev(\"IntCarrierDelay\").alias(\"StdDevDelay\"))\\\n",
    "              .orderBy(\"DelaySeverity\").show()\n",
    "\n",
    "display(Markdown(\"**'Weather' severe delays basic stats** (in mins):\"))\n",
    "severeDelaysDF.groupBy(\"DelaySeverity\")\\\n",
    "              .agg(avg(\"IntWeatherDelay\").alias(\"AverageDelay\"),\\\n",
    "                   min(\"IntWeatherDelay\").alias(\"LowestDelay\"),\\\n",
    "                   max(\"IntWeatherDelay\").alias(\"HighestDelay\"),\\\n",
    "                   stddev(\"IntWeatherDelay\").alias(\"StdDevDelay\"))\\\n",
    "              .orderBy(\"DelaySeverity\").show()\n",
    "\n",
    "display(Markdown(\"**'NAS' severe delays basic stats** (in mins):\"))\n",
    "severeDelaysDF.groupBy(\"DelaySeverity\")\\\n",
    "              .agg(avg(\"IntNASDelay\").alias(\"AverageDelay\"),\\\n",
    "                   min(\"IntNASDelay\").alias(\"LowestDelay\"),\\\n",
    "                   max(\"IntNASDelay\").alias(\"HighestDelay\"),\\\n",
    "                   stddev(\"IntNASDelay\").alias(\"StdDevDelay\"))\\\n",
    "              .orderBy(\"DelaySeverity\").show()\n",
    "\n",
    "display(Markdown(\"**'Security' severe delays basic stats** (in mins):\"))\n",
    "severeDelaysDF.groupBy(\"DelaySeverity\")\\\n",
    "              .agg(avg(\"IntSecurityDelay\").alias(\"AverageDelay\"),\\\n",
    "                   min(\"IntSecurityDelay\").alias(\"LowestDelay\"),\\\n",
    "                   max(\"IntSecurityDelay\").alias(\"HighestDelay\"),\\\n",
    "                   stddev(\"IntSecurityDelay\").alias(\"StdDevDelay\"))\\\n",
    "              .orderBy(\"DelaySeverity\").show()\n",
    "\n",
    "display(Markdown(\"**'LateAircraft' severe delays basic stats** (in mins):\"))\n",
    "severeDelaysDF.groupBy(\"DelaySeverity\")\\\n",
    "              .agg(avg(\"IntLateAircraftDelay\").alias(\"AverageDelay\"),\\\n",
    "                   min(\"IntLateAircraftDelay\").alias(\"LowestDelay\"),\\\n",
    "                   max(\"IntLateAircraftDelay\").alias(\"HighestDelay\"),\\\n",
    "                   stddev(\"IntLateAircraftDelay\").alias(\"StdDevDelay\"))\\\n",
    "              .orderBy(\"DelaySeverity\").show()"
   ]
  }
 ],
 "metadata": {
  "kernelspec": {
   "display_name": "Python 3",
   "language": "python",
   "name": "python3"
  },
  "language_info": {
   "codemirror_mode": {
    "name": "ipython",
    "version": 3
   },
   "file_extension": ".py",
   "mimetype": "text/x-python",
   "name": "python",
   "nbconvert_exporter": "python",
   "pygments_lexer": "ipython3",
   "version": "3.7.3"
  }
 },
 "nbformat": 4,
 "nbformat_minor": 2
}
